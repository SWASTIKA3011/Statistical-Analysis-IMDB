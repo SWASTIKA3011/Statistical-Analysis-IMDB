{
 "cells": [
  {
   "cell_type": "markdown",
   "id": "1f5b28a1",
   "metadata": {},
   "source": [
    "__Importing necessary libraries__"
   ]
  },
  {
   "cell_type": "code",
   "execution_count": 119,
   "id": "eb96c3f4",
   "metadata": {},
   "outputs": [],
   "source": [
    "import pandas as pd\n",
    "import numpy as np\n",
    "import matplotlib.pyplot as plt\n",
    "import random\n",
    "import math\n",
    "from scipy.stats import norm"
   ]
  },
  {
   "cell_type": "markdown",
   "id": "0911a4f0",
   "metadata": {},
   "source": [
    "__Loading the dataset__"
   ]
  },
  {
   "cell_type": "code",
   "execution_count": 5,
   "id": "695a0740",
   "metadata": {},
   "outputs": [],
   "source": [
    "data = pd.read_csv(\"/Users/swastika/Downloads/movie_ratings.csv\")"
   ]
  },
  {
   "cell_type": "markdown",
   "id": "87a0fd38",
   "metadata": {},
   "source": [
    "__Displaying first 5 rows of dataset__"
   ]
  },
  {
   "cell_type": "code",
   "execution_count": 6,
   "id": "dbeb94c4",
   "metadata": {},
   "outputs": [
    {
     "data": {
      "text/html": [
       "<div>\n",
       "<style scoped>\n",
       "    .dataframe tbody tr th:only-of-type {\n",
       "        vertical-align: middle;\n",
       "    }\n",
       "\n",
       "    .dataframe tbody tr th {\n",
       "        vertical-align: top;\n",
       "    }\n",
       "\n",
       "    .dataframe thead th {\n",
       "        text-align: right;\n",
       "    }\n",
       "</style>\n",
       "<table border=\"1\" class=\"dataframe\">\n",
       "  <thead>\n",
       "    <tr style=\"text-align: right;\">\n",
       "      <th></th>\n",
       "      <th>Unnamed: 0</th>\n",
       "      <th>movie</th>\n",
       "      <th>year</th>\n",
       "      <th>imdb</th>\n",
       "      <th>metascore</th>\n",
       "      <th>votes</th>\n",
       "    </tr>\n",
       "  </thead>\n",
       "  <tbody>\n",
       "    <tr>\n",
       "      <th>0</th>\n",
       "      <td>0</td>\n",
       "      <td>Gladiator</td>\n",
       "      <td>2000</td>\n",
       "      <td>8.5</td>\n",
       "      <td>67.0</td>\n",
       "      <td>1187559</td>\n",
       "    </tr>\n",
       "    <tr>\n",
       "      <th>1</th>\n",
       "      <td>1</td>\n",
       "      <td>Memento</td>\n",
       "      <td>2000</td>\n",
       "      <td>8.5</td>\n",
       "      <td>80.0</td>\n",
       "      <td>1014199</td>\n",
       "    </tr>\n",
       "    <tr>\n",
       "      <th>2</th>\n",
       "      <td>2</td>\n",
       "      <td>Snatch</td>\n",
       "      <td>2000</td>\n",
       "      <td>8.3</td>\n",
       "      <td>NaN</td>\n",
       "      <td>707162</td>\n",
       "    </tr>\n",
       "    <tr>\n",
       "      <th>3</th>\n",
       "      <td>3</td>\n",
       "      <td>Requiem for a Dream</td>\n",
       "      <td>2000</td>\n",
       "      <td>8.3</td>\n",
       "      <td>68.0</td>\n",
       "      <td>688394</td>\n",
       "    </tr>\n",
       "    <tr>\n",
       "      <th>4</th>\n",
       "      <td>4</td>\n",
       "      <td>X-Men</td>\n",
       "      <td>2000</td>\n",
       "      <td>7.4</td>\n",
       "      <td>64.0</td>\n",
       "      <td>526411</td>\n",
       "    </tr>\n",
       "  </tbody>\n",
       "</table>\n",
       "</div>"
      ],
      "text/plain": [
       "   Unnamed: 0                movie  year  imdb  metascore    votes\n",
       "0           0            Gladiator  2000   8.5       67.0  1187559\n",
       "1           1              Memento  2000   8.5       80.0  1014199\n",
       "2           2               Snatch  2000   8.3        NaN   707162\n",
       "3           3  Requiem for a Dream  2000   8.3       68.0   688394\n",
       "4           4                X-Men  2000   7.4       64.0   526411"
      ]
     },
     "execution_count": 6,
     "metadata": {},
     "output_type": "execute_result"
    }
   ],
   "source": [
    "data.head()"
   ]
  },
  {
   "cell_type": "markdown",
   "id": "eb75a836",
   "metadata": {},
   "source": [
    "__Displaying last 5 rows of dataset__"
   ]
  },
  {
   "cell_type": "code",
   "execution_count": 8,
   "id": "38c906f4",
   "metadata": {},
   "outputs": [
    {
     "data": {
      "text/html": [
       "<div>\n",
       "<style scoped>\n",
       "    .dataframe tbody tr th:only-of-type {\n",
       "        vertical-align: middle;\n",
       "    }\n",
       "\n",
       "    .dataframe tbody tr th {\n",
       "        vertical-align: top;\n",
       "    }\n",
       "\n",
       "    .dataframe thead th {\n",
       "        text-align: right;\n",
       "    }\n",
       "</style>\n",
       "<table border=\"1\" class=\"dataframe\">\n",
       "  <thead>\n",
       "    <tr style=\"text-align: right;\">\n",
       "      <th></th>\n",
       "      <th>Unnamed: 0</th>\n",
       "      <th>movie</th>\n",
       "      <th>year</th>\n",
       "      <th>imdb</th>\n",
       "      <th>metascore</th>\n",
       "      <th>votes</th>\n",
       "    </tr>\n",
       "  </thead>\n",
       "  <tbody>\n",
       "    <tr>\n",
       "      <th>1795</th>\n",
       "      <td>1795</td>\n",
       "      <td>Transformers: The Last Knight</td>\n",
       "      <td>2017</td>\n",
       "      <td>5.2</td>\n",
       "      <td>NaN</td>\n",
       "      <td>113918</td>\n",
       "    </tr>\n",
       "    <tr>\n",
       "      <th>1796</th>\n",
       "      <td>1796</td>\n",
       "      <td>Mindhunter</td>\n",
       "      <td>2017</td>\n",
       "      <td>8.5</td>\n",
       "      <td>NaN</td>\n",
       "      <td>111213</td>\n",
       "    </tr>\n",
       "    <tr>\n",
       "      <th>1797</th>\n",
       "      <td>1797</td>\n",
       "      <td>The Lego Batman Movie</td>\n",
       "      <td>2017</td>\n",
       "      <td>7.3</td>\n",
       "      <td>75.0</td>\n",
       "      <td>111193</td>\n",
       "    </tr>\n",
       "    <tr>\n",
       "      <th>1798</th>\n",
       "      <td>1798</td>\n",
       "      <td>The Handmaid's Tale</td>\n",
       "      <td>2017</td>\n",
       "      <td>8.6</td>\n",
       "      <td>NaN</td>\n",
       "      <td>106329</td>\n",
       "    </tr>\n",
       "    <tr>\n",
       "      <th>1799</th>\n",
       "      <td>1799</td>\n",
       "      <td>The Disaster Artist</td>\n",
       "      <td>2017</td>\n",
       "      <td>7.4</td>\n",
       "      <td>76.0</td>\n",
       "      <td>106238</td>\n",
       "    </tr>\n",
       "  </tbody>\n",
       "</table>\n",
       "</div>"
      ],
      "text/plain": [
       "      Unnamed: 0                          movie  year  imdb  metascore   votes\n",
       "1795        1795  Transformers: The Last Knight  2017   5.2        NaN  113918\n",
       "1796        1796                     Mindhunter  2017   8.5        NaN  111213\n",
       "1797        1797          The Lego Batman Movie  2017   7.3       75.0  111193\n",
       "1798        1798            The Handmaid's Tale  2017   8.6        NaN  106329\n",
       "1799        1799            The Disaster Artist  2017   7.4       76.0  106238"
      ]
     },
     "execution_count": 8,
     "metadata": {},
     "output_type": "execute_result"
    }
   ],
   "source": [
    "data.tail()"
   ]
  },
  {
   "cell_type": "markdown",
   "id": "fe69b792",
   "metadata": {},
   "source": [
    "__Displaying all the columns of dataset__"
   ]
  },
  {
   "cell_type": "code",
   "execution_count": 7,
   "id": "fee27a17",
   "metadata": {},
   "outputs": [
    {
     "data": {
      "text/plain": [
       "Index(['Unnamed: 0', 'movie', 'year', 'imdb', 'metascore', 'votes'], dtype='object')"
      ]
     },
     "execution_count": 7,
     "metadata": {},
     "output_type": "execute_result"
    }
   ],
   "source": [
    "data.columns"
   ]
  },
  {
   "cell_type": "markdown",
   "id": "4d117d96",
   "metadata": {},
   "source": [
    "__Describing the dataset__"
   ]
  },
  {
   "cell_type": "code",
   "execution_count": 9,
   "id": "d35a8f3f",
   "metadata": {},
   "outputs": [
    {
     "data": {
      "text/html": [
       "<div>\n",
       "<style scoped>\n",
       "    .dataframe tbody tr th:only-of-type {\n",
       "        vertical-align: middle;\n",
       "    }\n",
       "\n",
       "    .dataframe tbody tr th {\n",
       "        vertical-align: top;\n",
       "    }\n",
       "\n",
       "    .dataframe thead th {\n",
       "        text-align: right;\n",
       "    }\n",
       "</style>\n",
       "<table border=\"1\" class=\"dataframe\">\n",
       "  <thead>\n",
       "    <tr style=\"text-align: right;\">\n",
       "      <th></th>\n",
       "      <th>Unnamed: 0</th>\n",
       "      <th>year</th>\n",
       "      <th>imdb</th>\n",
       "      <th>metascore</th>\n",
       "      <th>votes</th>\n",
       "    </tr>\n",
       "  </thead>\n",
       "  <tbody>\n",
       "    <tr>\n",
       "      <th>count</th>\n",
       "      <td>1800.00000</td>\n",
       "      <td>1800.000000</td>\n",
       "      <td>1800.000000</td>\n",
       "      <td>950.000000</td>\n",
       "      <td>1.800000e+03</td>\n",
       "    </tr>\n",
       "    <tr>\n",
       "      <th>mean</th>\n",
       "      <td>899.50000</td>\n",
       "      <td>2008.495556</td>\n",
       "      <td>7.239444</td>\n",
       "      <td>74.280000</td>\n",
       "      <td>3.176363e+05</td>\n",
       "    </tr>\n",
       "    <tr>\n",
       "      <th>std</th>\n",
       "      <td>519.75956</td>\n",
       "      <td>5.183780</td>\n",
       "      <td>0.818280</td>\n",
       "      <td>9.065475</td>\n",
       "      <td>2.151333e+05</td>\n",
       "    </tr>\n",
       "    <tr>\n",
       "      <th>min</th>\n",
       "      <td>0.00000</td>\n",
       "      <td>2000.000000</td>\n",
       "      <td>4.100000</td>\n",
       "      <td>61.000000</td>\n",
       "      <td>9.342800e+04</td>\n",
       "    </tr>\n",
       "    <tr>\n",
       "      <th>25%</th>\n",
       "      <td>449.75000</td>\n",
       "      <td>2004.000000</td>\n",
       "      <td>6.700000</td>\n",
       "      <td>67.000000</td>\n",
       "      <td>1.842225e+05</td>\n",
       "    </tr>\n",
       "    <tr>\n",
       "      <th>50%</th>\n",
       "      <td>899.50000</td>\n",
       "      <td>2008.500000</td>\n",
       "      <td>7.300000</td>\n",
       "      <td>73.000000</td>\n",
       "      <td>2.467390e+05</td>\n",
       "    </tr>\n",
       "    <tr>\n",
       "      <th>75%</th>\n",
       "      <td>1349.25000</td>\n",
       "      <td>2013.000000</td>\n",
       "      <td>7.800000</td>\n",
       "      <td>81.000000</td>\n",
       "      <td>3.825830e+05</td>\n",
       "    </tr>\n",
       "    <tr>\n",
       "      <th>max</th>\n",
       "      <td>1799.00000</td>\n",
       "      <td>2017.000000</td>\n",
       "      <td>9.900000</td>\n",
       "      <td>100.000000</td>\n",
       "      <td>2.020298e+06</td>\n",
       "    </tr>\n",
       "  </tbody>\n",
       "</table>\n",
       "</div>"
      ],
      "text/plain": [
       "       Unnamed: 0         year         imdb   metascore         votes\n",
       "count  1800.00000  1800.000000  1800.000000  950.000000  1.800000e+03\n",
       "mean    899.50000  2008.495556     7.239444   74.280000  3.176363e+05\n",
       "std     519.75956     5.183780     0.818280    9.065475  2.151333e+05\n",
       "min       0.00000  2000.000000     4.100000   61.000000  9.342800e+04\n",
       "25%     449.75000  2004.000000     6.700000   67.000000  1.842225e+05\n",
       "50%     899.50000  2008.500000     7.300000   73.000000  2.467390e+05\n",
       "75%    1349.25000  2013.000000     7.800000   81.000000  3.825830e+05\n",
       "max    1799.00000  2017.000000     9.900000  100.000000  2.020298e+06"
      ]
     },
     "execution_count": 9,
     "metadata": {},
     "output_type": "execute_result"
    }
   ],
   "source": [
    "data.describe()"
   ]
  },
  {
   "cell_type": "markdown",
   "id": "c7aced9a",
   "metadata": {},
   "source": [
    "__Displaying null values in each column__"
   ]
  },
  {
   "cell_type": "code",
   "execution_count": 10,
   "id": "a44f1f99",
   "metadata": {},
   "outputs": [
    {
     "data": {
      "text/plain": [
       "Unnamed: 0      0\n",
       "movie           0\n",
       "year            0\n",
       "imdb            0\n",
       "metascore     850\n",
       "votes           0\n",
       "dtype: int64"
      ]
     },
     "execution_count": 10,
     "metadata": {},
     "output_type": "execute_result"
    }
   ],
   "source": [
    "data.isnull().sum()"
   ]
  },
  {
   "cell_type": "markdown",
   "id": "b2c477bc",
   "metadata": {},
   "source": [
    "__Displaying the number of columns and rows of dataset__"
   ]
  },
  {
   "cell_type": "code",
   "execution_count": 11,
   "id": "84c9607d",
   "metadata": {},
   "outputs": [
    {
     "data": {
      "text/plain": [
       "(1800, 6)"
      ]
     },
     "execution_count": 11,
     "metadata": {},
     "output_type": "execute_result"
    }
   ],
   "source": [
    "data.shape"
   ]
  },
  {
   "cell_type": "markdown",
   "id": "d6f81d56",
   "metadata": {},
   "source": [
    "__Dropping all the null values of dataset__"
   ]
  },
  {
   "cell_type": "code",
   "execution_count": 12,
   "id": "071785c0",
   "metadata": {},
   "outputs": [],
   "source": [
    "df = data.dropna()"
   ]
  },
  {
   "cell_type": "markdown",
   "id": "f41ae642",
   "metadata": {},
   "source": [
    "__Displaying the modified number of columns and rows of dataset__"
   ]
  },
  {
   "cell_type": "code",
   "execution_count": 13,
   "id": "3200f02e",
   "metadata": {},
   "outputs": [
    {
     "data": {
      "text/plain": [
       "(950, 6)"
      ]
     },
     "execution_count": 13,
     "metadata": {},
     "output_type": "execute_result"
    }
   ],
   "source": [
    "df.shape"
   ]
  },
  {
   "cell_type": "markdown",
   "id": "94fb0fcf",
   "metadata": {},
   "source": [
    "__Displaying value counts for each imdb rating__"
   ]
  },
  {
   "cell_type": "code",
   "execution_count": 15,
   "id": "cc88b209",
   "metadata": {},
   "outputs": [
    {
     "data": {
      "text/plain": [
       "7.7    86\n",
       "7.6    80\n",
       "7.8    68\n",
       "7.3    64\n",
       "7.2    64\n",
       "8.1    60\n",
       "7.9    60\n",
       "8.0    58\n",
       "7.4    50\n",
       "7.5    50\n",
       "7.1    48\n",
       "7.0    46\n",
       "6.9    28\n",
       "6.6    26\n",
       "8.2    24\n",
       "6.8    22\n",
       "6.7    20\n",
       "8.3    16\n",
       "8.4    14\n",
       "6.4    12\n",
       "8.5    12\n",
       "6.5     8\n",
       "6.2     8\n",
       "6.3     6\n",
       "8.6     6\n",
       "8.8     4\n",
       "8.9     2\n",
       "8.7     2\n",
       "6.1     2\n",
       "9.0     2\n",
       "5.8     2\n",
       "Name: imdb, dtype: int64"
      ]
     },
     "execution_count": 15,
     "metadata": {},
     "output_type": "execute_result"
    }
   ],
   "source": [
    "df.imdb.value_counts()"
   ]
  },
  {
   "cell_type": "markdown",
   "id": "a63c9e52",
   "metadata": {},
   "source": [
    "__Calculating the population parameters: population mean, standard deviation and variance__"
   ]
  },
  {
   "cell_type": "code",
   "execution_count": 16,
   "id": "f2c857c7",
   "metadata": {},
   "outputs": [
    {
     "name": "stdout",
     "output_type": "stream",
     "text": [
      "The population mean is:  7.5136842105263195\n",
      "The population standard deviation is:  0.5270772595926756\n",
      "The population variance is:  0.27781043757972473\n"
     ]
    }
   ],
   "source": [
    "pop_mean = df[\"imdb\"].mean()\n",
    "pop_std = df[\"imdb\"].std()\n",
    "pop_var = df[\"imdb\"].var()\n",
    "print(\"The population mean is: \" ,pop_mean)\n",
    "print(\"The population standard deviation is: \" ,pop_std)\n",
    "print(\"The population variance is: \" ,pop_var)"
   ]
  },
  {
   "cell_type": "markdown",
   "id": "47a1fb06",
   "metadata": {},
   "source": [
    "__Selecting random samples from the dataset__     \n",
    "- Here we have used Simple Random Sampling method of Random or Probability Sampling\n",
    "- We used .random() library of python"
   ]
  },
  {
   "cell_type": "code",
   "execution_count": 17,
   "id": "56844e7b",
   "metadata": {},
   "outputs": [
    {
     "name": "stdout",
     "output_type": "stream",
     "text": [
      "[561, 646, 10, 820, 256, 122, 467, 656, 752, 590, 636, 830, 855, 791, 59, 548, 875, 745, 609, 461, 38, 29, 892, 359, 859, 822, 410, 501, 713, 593, 425, 369, 649, 227, 398, 240, 162, 672, 935, 333, 310, 313, 742, 643, 251, 28, 718]\n"
     ]
    }
   ],
   "source": [
    "#sampling\n",
    "n = int(0.05*950)\n",
    "rating_list=list(range(0,950))\n",
    "sample_list = random.sample(rating_list, n)\n",
    "print(sample_list)"
   ]
  },
  {
   "cell_type": "markdown",
   "id": "0bd0854f",
   "metadata": {},
   "source": [
    "__Collection of data values present at randomly generated indexes by python__\n",
    "- Here we appended those values in sample list; imdb_sample \n",
    "- We also calculated its length to determine sample size"
   ]
  },
  {
   "cell_type": "code",
   "execution_count": 43,
   "id": "d89c5278",
   "metadata": {},
   "outputs": [
    {
     "name": "stdout",
     "output_type": "stream",
     "text": [
      "[7.5, 7.8, 7.2, 7.6, 7.0, 8.1, 7.7, 7.1, 7.3, 7.4, 7.4, 7.9, 7.5, 7.8, 7.6, 7.6, 7.4, 7.7, 7.1, 6.7, 7.3, 7.6, 8.1, 7.7, 7.6, 8.2, 7.1, 7.8, 8.1, 8.1, 6.7, 7.7, 7.7, 7.8, 7.7, 7.5, 7.7, 7.2, 8.4, 7.3, 8.4, 7.5, 6.4, 8.1, 6.7, 7.8, 7.3]\n",
      "47\n"
     ]
    }
   ],
   "source": [
    "imdb_sample=[]\n",
    "for i in sample_list:\n",
    "    imdb_sample.append(df[\"imdb\"].iloc[i])\n",
    "print(imdb_sample)\n",
    "n = len(sample_list)\n",
    "print(n)"
   ]
  },
  {
   "cell_type": "markdown",
   "id": "d8cc9a2a",
   "metadata": {},
   "source": [
    "- __Sample Data is almost normally distributed, so we can proceed further__"
   ]
  },
  {
   "cell_type": "code",
   "execution_count": 120,
   "id": "71a3262c",
   "metadata": {},
   "outputs": [
    {
     "data": {
      "text/plain": [
       "(array([ 1.,  3.,  0.,  4.,  6., 12., 12.,  1.,  6.,  2.]),\n",
       " array([6.4, 6.6, 6.8, 7. , 7.2, 7.4, 7.6, 7.8, 8. , 8.2, 8.4]),\n",
       " <BarContainer object of 10 artists>)"
      ]
     },
     "execution_count": 120,
     "metadata": {},
     "output_type": "execute_result"
    },
    {
     "data": {
      "image/png": "[encoded data removed]",
      "text/plain": [
       "<Figure size 432x288 with 1 Axes>"
      ]
     },
     "metadata": {
      "needs_background": "light"
     },
     "output_type": "display_data"
    }
   ],
   "source": [
    "plt.hist(imdb_sample)"
   ]
  },
  {
   "cell_type": "code",
   "execution_count": 121,
   "id": "256cd20e",
   "metadata": {},
   "outputs": [
    {
     "data": {
      "text/plain": [
       "[<matplotlib.lines.Line2D at 0x7f957843ce50>]"
      ]
     },
     "execution_count": 121,
     "metadata": {},
     "output_type": "execute_result"
    },
    {
     "data": {
      "image/png": "[encoded data removed]",
      "text/plain": [
       "<Figure size 432x288 with 1 Axes>"
      ]
     },
     "metadata": {
      "needs_background": "light"
     },
     "output_type": "display_data"
    }
   ],
   "source": [
    "plt.plot(imdb_sample)"
   ]
  },
  {
   "cell_type": "code",
   "execution_count": 122,
   "id": "5515ad57",
   "metadata": {},
   "outputs": [
    {
     "data": {
      "text/plain": [
       "{'whiskers': [<matplotlib.lines.Line2D at 0x7f954b835880>,\n",
       "  <matplotlib.lines.Line2D at 0x7f954b835b50>],\n",
       " 'caps': [<matplotlib.lines.Line2D at 0x7f954b835e20>,\n",
       "  <matplotlib.lines.Line2D at 0x7f954b845130>],\n",
       " 'boxes': [<matplotlib.lines.Line2D at 0x7f954b835580>],\n",
       " 'medians': [<matplotlib.lines.Line2D at 0x7f954b845400>],\n",
       " 'fliers': [<matplotlib.lines.Line2D at 0x7f954b8456d0>],\n",
       " 'means': []}"
      ]
     },
     "execution_count": 122,
     "metadata": {},
     "output_type": "execute_result"
    },
    {
     "data": {
      "image/png": "[encoded data removed]",
      "text/plain": [
       "<Figure size 432x288 with 1 Axes>"
      ]
     },
     "metadata": {
      "needs_background": "light"
     },
     "output_type": "display_data"
    }
   ],
   "source": [
    "plt.boxplot(imdb_sample)"
   ]
  },
  {
   "cell_type": "markdown",
   "id": "080e1220",
   "metadata": {},
   "source": [
    "__Displaying value counts for each rating of sample__"
   ]
  },
  {
   "cell_type": "code",
   "execution_count": 19,
   "id": "aa3dba30",
   "metadata": {
    "scrolled": true
   },
   "outputs": [
    {
     "data": {
      "text/plain": [
       "7.7    7\n",
       "7.6    5\n",
       "7.8    5\n",
       "8.1    5\n",
       "7.3    4\n",
       "7.5    4\n",
       "6.7    3\n",
       "7.1    3\n",
       "7.4    3\n",
       "7.2    2\n",
       "8.4    2\n",
       "6.4    1\n",
       "7.0    1\n",
       "7.9    1\n",
       "8.2    1\n",
       "dtype: int64"
      ]
     },
     "execution_count": 19,
     "metadata": {},
     "output_type": "execute_result"
    }
   ],
   "source": [
    "sample_list1 = pd.DataFrame(imdb_sample)\n",
    "sample_list1.value_counts()"
   ]
  },
  {
   "cell_type": "markdown",
   "id": "0ba7aff0",
   "metadata": {},
   "source": [
    "__Calculating the sample parameters: sample mean, standard deviation and variance__"
   ]
  },
  {
   "cell_type": "code",
   "execution_count": 20,
   "id": "eceb2bf6",
   "metadata": {},
   "outputs": [
    {
     "name": "stdout",
     "output_type": "stream",
     "text": [
      "The sample mean is:  7.551063829787235\n",
      "The sample standard deviation is:  0.43655924529113166\n",
      "The sample variance is:  0.19058397464916246\n"
     ]
    }
   ],
   "source": [
    "samp_mean = np.mean(imdb_sample)\n",
    "samp_std = np.std(imdb_sample)\n",
    "samp_var = np.var(imdb_sample)\n",
    "print(\"The sample mean is: \" ,samp_mean)\n",
    "print(\"The sample standard deviation is: \" ,samp_std)\n",
    "print(\"The sample variance is: \" ,samp_var)"
   ]
  },
  {
   "cell_type": "markdown",
   "id": "d57d1683",
   "metadata": {},
   "source": [
    "# z test"
   ]
  },
  {
   "cell_type": "markdown",
   "id": "7417a71a",
   "metadata": {},
   "source": [
    "- __First step is to calculate the z-statistic__"
   ]
  },
  {
   "cell_type": "code",
   "execution_count": 112,
   "id": "3e028aa5",
   "metadata": {},
   "outputs": [
    {
     "name": "stdout",
     "output_type": "stream",
     "text": [
      "0.4987686486653422\n"
     ]
    }
   ],
   "source": [
    "#z-statistic\n",
    "finite_corr = math.pow(((950-47)/(950-1)),0.5)\n",
    "zs = (samp_mean - pop_mean)*(math.pow(n,0.5))/((pop_std)*(finite_corr))\n",
    "print(zs)"
   ]
  },
  {
   "cell_type": "markdown",
   "id": "58f3d983",
   "metadata": {},
   "source": [
    "- __Estimating 90% confidence interval for sample mean__"
   ]
  },
  {
   "cell_type": "code",
   "execution_count": 75,
   "id": "cb3d6159",
   "metadata": {},
   "outputs": [
    {
     "name": "stdout",
     "output_type": "stream",
     "text": [
      "[7.427695972567184, 7.674431687007285]\n"
     ]
    }
   ],
   "source": [
    "#90% confidence interval a = 0.10\n",
    "#z(a/2) = z(0.5-0.05) = z(0.45)\n",
    "za = 1.645\n",
    "margin_of_error = za*((pop_std)/(math.pow(n,0.5))*finite_corr)\n",
    "conf_range_90 = [samp_mean - margin_of_error,samp_mean + margin_of_error]\n",
    "print(conf_range_90)"
   ]
  },
  {
   "cell_type": "markdown",
   "id": "e455780d",
   "metadata": {},
   "source": [
    "- __Estimating required sample size for 90% confidence interval of sample mean__"
   ]
  },
  {
   "cell_type": "code",
   "execution_count": 84,
   "id": "c80a9b59",
   "metadata": {},
   "outputs": [
    {
     "name": "stdout",
     "output_type": "stream",
     "text": [
      "538.035109127575\n"
     ]
    }
   ],
   "source": [
    "#estimating sample size using population mean\n",
    "n1 = math.pow(((1.645*pop_std)/(samp_mean-pop_mean)),2)\n",
    "print(n1)"
   ]
  },
  {
   "cell_type": "markdown",
   "id": "56da4b2a",
   "metadata": {},
   "source": [
    "- __Estimating 95% confidence interval for sample mean__"
   ]
  },
  {
   "cell_type": "code",
   "execution_count": 114,
   "id": "a072846f",
   "metadata": {},
   "outputs": [
    {
     "name": "stdout",
     "output_type": "stream",
     "text": [
      "[7.404030056728397, 7.6979699432716036]\n"
     ]
    }
   ],
   "source": [
    "#95% confidence interval a = 0.05\n",
    "#z(a/2) = z(0.5-0.025) = z(0.475)\n",
    "za = 1.96\n",
    "margin_of_error = za*((pop_std)/(math.pow(n,0.5))*finite_corr)\n",
    "conf_range_95 = [samp_mean - margin_of_error,samp_mean + margin_of_error]\n",
    "print(conf_range_95)"
   ]
  },
  {
   "cell_type": "markdown",
   "id": "7234e4ba",
   "metadata": {},
   "source": [
    "- __Estimating required sample size for 95% confidence interval of sample mean__"
   ]
  },
  {
   "cell_type": "code",
   "execution_count": 115,
   "id": "e39d86e6",
   "metadata": {},
   "outputs": [
    {
     "name": "stdout",
     "output_type": "stream",
     "text": [
      "762.7639669421538\n"
     ]
    }
   ],
   "source": [
    "#estimating sample size using population mean\n",
    "n1 = math.pow(((1.96*pop_std)/(samp_mean-pop_mean)),2)\n",
    "print(n1)"
   ]
  },
  {
   "cell_type": "markdown",
   "id": "90c4b681",
   "metadata": {},
   "source": [
    "- __Estimating 99% confidence interval for sample mean__"
   ]
  },
  {
   "cell_type": "code",
   "execution_count": 116,
   "id": "420e6cf6",
   "metadata": {},
   "outputs": [
    {
     "name": "stdout",
     "output_type": "stream",
     "text": [
      "[7.357914487793684, 7.744085512206317]\n"
     ]
    }
   ],
   "source": [
    "#99% confidence interval a = 0.01\n",
    "#z(a/2) = z(0.5-0.005) = z(0.495)\n",
    "za = 2.575\n",
    "margin_of_error = za*((pop_std)/(math.pow(n,0.5))*finite_corr)\n",
    "conf_range_99 = [samp_mean - margin_of_error,samp_mean + margin_of_error]\n",
    "print(conf_range_99)"
   ]
  },
  {
   "cell_type": "markdown",
   "id": "5a39e44e",
   "metadata": {},
   "source": [
    "- __Estimating required sample size for 99% confidence interval of sample mean__"
   ]
  },
  {
   "cell_type": "code",
   "execution_count": 82,
   "id": "7514ad83",
   "metadata": {},
   "outputs": [
    {
     "name": "stdout",
     "output_type": "stream",
     "text": [
      "1318.3577555488312\n"
     ]
    }
   ],
   "source": [
    "#estimating sample size using population mean\n",
    "n1 = math.pow(((2.575*pop_std)/(samp_mean-pop_mean)),2)\n",
    "print(n1)"
   ]
  },
  {
   "cell_type": "markdown",
   "id": "57100c3d",
   "metadata": {},
   "source": [
    "# t test"
   ]
  },
  {
   "cell_type": "markdown",
   "id": "1920fa21",
   "metadata": {},
   "source": [
    "- __First step is to calculate the t-statistic__"
   ]
  },
  {
   "cell_type": "code",
   "execution_count": 50,
   "id": "b00fbae0",
   "metadata": {},
   "outputs": [
    {
     "name": "stdout",
     "output_type": "stream",
     "text": [
      "0.5870033941817827\n"
     ]
    }
   ],
   "source": [
    "#t-statistic\n",
    "ts = ((samp_mean - pop_mean)*(math.pow(n,0.5)))/(samp_std)\n",
    "print(ts)"
   ]
  },
  {
   "cell_type": "markdown",
   "id": "cbcb791b",
   "metadata": {},
   "source": [
    "- __Estimating 90% confidence interval for sample mean__"
   ]
  },
  {
   "cell_type": "code",
   "execution_count": 58,
   "id": "0017264c",
   "metadata": {},
   "outputs": [
    {
     "name": "stdout",
     "output_type": "stream",
     "text": [
      "[7.444147274685271, 7.657980384889198]\n"
     ]
    }
   ],
   "source": [
    "#90% confidence interval\n",
    "dof = n - 1 \n",
    "#t(a/2) = t(0.05, 46)\n",
    "ta = 1.679            #from t-table\n",
    "margin_of_error = (ta*(samp_std))/math.pow(n,0.5)\n",
    "conf_range_90 = [samp_mean - margin_of_error,samp_mean + margin_of_error]\n",
    "print(conf_range_90)"
   ]
  },
  {
   "cell_type": "markdown",
   "id": "50e9a79f",
   "metadata": {},
   "source": [
    "- __Estimating 95% confidence interval for sample mean__"
   ]
  },
  {
   "cell_type": "code",
   "execution_count": 59,
   "id": "b2fadcf1",
   "metadata": {},
   "outputs": [
    {
     "name": "stdout",
     "output_type": "stream",
     "text": [
      "[7.4228785853439625, 7.679249074230507]\n"
     ]
    }
   ],
   "source": [
    "#95% confidence interval\n",
    "dof = n - 1 \n",
    "#t(a/2) = t(0.025, 46)\n",
    "ta = 2.013            #from t-table\n",
    "margin_of_error = (ta*(samp_std))/math.pow(n,0.5)\n",
    "conf_range_95 = [samp_mean - margin_of_error,samp_mean + margin_of_error]\n",
    "print(conf_range_95)"
   ]
  },
  {
   "cell_type": "markdown",
   "id": "400cbd12",
   "metadata": {},
   "source": [
    "- __Estimating 99% confidence interval for sample mean__"
   ]
  },
  {
   "cell_type": "code",
   "execution_count": 60,
   "id": "c8f69d97",
   "metadata": {},
   "outputs": [
    {
     "name": "stdout",
     "output_type": "stream",
     "text": [
      "[7.379959134397731, 7.7221685251767385]\n"
     ]
    }
   ],
   "source": [
    "#99% confidence interval\n",
    "dof = n - 1 \n",
    "#t(a/2) = t(0.005, 46)\n",
    "ta = 2.687            #from t-table\n",
    "margin_of_error = (ta*(samp_std))/math.pow(n,0.5)\n",
    "conf_range_99 = [samp_mean - margin_of_error,samp_mean + margin_of_error]\n",
    "print(conf_range_99)"
   ]
  },
  {
   "cell_type": "markdown",
   "id": "05041b81",
   "metadata": {},
   "source": [
    "# p test"
   ]
  },
  {
   "cell_type": "markdown",
   "id": "05a2ff36",
   "metadata": {},
   "source": [
    "- __Calculating sample and population proportions__"
   ]
  },
  {
   "cell_type": "code",
   "execution_count": 2,
   "id": "3b284907",
   "metadata": {},
   "outputs": [
    {
     "name": "stdout",
     "output_type": "stream",
     "text": [
      "0.09052631578947369\n",
      "0.14893617021276595\n"
     ]
    }
   ],
   "source": [
    "#suppose we are taking for a rating of 7.7  \n",
    "pop_prop = 86/950\n",
    "samp_prop = 7/47\n",
    "print(pop_prop)\n",
    "print(samp_prop)"
   ]
  },
  {
   "cell_type": "markdown",
   "id": "3a6533e3",
   "metadata": {},
   "source": [
    "- __First step is to calculate the p-statistic__"
   ]
  },
  {
   "cell_type": "code",
   "execution_count": 87,
   "id": "36856610",
   "metadata": {},
   "outputs": [
    {
     "name": "stdout",
     "output_type": "stream",
     "text": [
      "1.124744543832107\n"
     ]
    }
   ],
   "source": [
    "#p-statistic \n",
    "ps = (samp_prop - pop_prop)/math.sqrt((samp_prop)*(1-samp_prop)/n)\n",
    "print(ps)"
   ]
  },
  {
   "cell_type": "markdown",
   "id": "b99676e8",
   "metadata": {},
   "source": [
    "- __Estimating 90% confidence interval for sample proportion__"
   ]
  },
  {
   "cell_type": "code",
   "execution_count": 88,
   "id": "48ad025b",
   "metadata": {},
   "outputs": [
    {
     "name": "stdout",
     "output_type": "stream",
     "text": [
      "[0.06350858485285114, 0.23436375557268074]\n"
     ]
    }
   ],
   "source": [
    "#90% confidence interval a = 0.10\n",
    "#z(a/2) = z(0.5-0.05) = z(0.45)\n",
    "za = 1.645\n",
    "margin_of_error = za*(math.pow(((samp_prop)*(1-samp_prop)/n),0.5))\n",
    "conf_range_90 = [samp_prop - margin_of_error,samp_prop + margin_of_error]\n",
    "print(conf_range_90)"
   ]
  },
  {
   "cell_type": "markdown",
   "id": "7b6b5813",
   "metadata": {},
   "source": [
    "- __Estimating required sample size for 90% confidence interval of sample proportion__"
   ]
  },
  {
   "cell_type": "code",
   "execution_count": 96,
   "id": "7a2327f3",
   "metadata": {},
   "outputs": [
    {
     "name": "stdout",
     "output_type": "stream",
     "text": [
      "65.30170791359295\n"
     ]
    }
   ],
   "source": [
    "#estimating sample size using population proportion\n",
    "n1 = ((1.645**2)*(pop_prop)*(1-pop_prop))/((samp_prop-pop_prop)**2)\n",
    "print(n1)"
   ]
  },
  {
   "cell_type": "markdown",
   "id": "99978b42",
   "metadata": {},
   "source": [
    "- __Estimating 95% confidence interval for sample proportion__"
   ]
  },
  {
   "cell_type": "code",
   "execution_count": 89,
   "id": "aeb17c1c",
   "metadata": {},
   "outputs": [
    {
     "name": "stdout",
     "output_type": "stream",
     "text": [
      "[0.047150111060527036, 0.2507222293650049]\n"
     ]
    }
   ],
   "source": [
    "#95% confidence interval a = 0.05\n",
    "#z(a/2) = z(0.5-0.025) = z(0.475)\n",
    "za = 1.96\n",
    "margin_of_error = za*(math.pow(((samp_prop)*(1-samp_prop)/n),0.5))\n",
    "conf_range_95 = [samp_prop - margin_of_error,samp_prop + margin_of_error]\n",
    "print(conf_range_95)"
   ]
  },
  {
   "cell_type": "markdown",
   "id": "e32acc75",
   "metadata": {},
   "source": [
    "- __Estimating required sample size for 95% confidence interval of sample proportion__"
   ]
  },
  {
   "cell_type": "code",
   "execution_count": 97,
   "id": "b092dfb6",
   "metadata": {},
   "outputs": [
    {
     "name": "stdout",
     "output_type": "stream",
     "text": [
      "92.7053671421582\n"
     ]
    }
   ],
   "source": [
    "#estimating sample size using population proportion\n",
    "n1 = ((1.96**2)*(pop_prop)*(1-pop_prop))/((samp_prop-pop_prop)**2)\n",
    "print(n1)"
   ]
  },
  {
   "cell_type": "markdown",
   "id": "9504c88f",
   "metadata": {},
   "source": [
    "- __Estimating 99% confidence interval for sample proportion__"
   ]
  },
  {
   "cell_type": "code",
   "execution_count": 90,
   "id": "331e2f2f",
   "metadata": {},
   "outputs": [
    {
     "name": "stdout",
     "output_type": "stream",
     "text": [
      "[0.015212138418370436, 0.28266020200716147]\n"
     ]
    }
   ],
   "source": [
    "#99% confidence interval a = 0.01\n",
    "#z(a/2) = z(0.5-0.005) = z(0.495)\n",
    "za = 2.575\n",
    "margin_of_error = za*(math.pow(((samp_prop)*(1-samp_prop)/n),0.5))\n",
    "conf_range_99 = [samp_prop - margin_of_error,samp_prop + margin_of_error]\n",
    "print(conf_range_99)"
   ]
  },
  {
   "cell_type": "markdown",
   "id": "a0537124",
   "metadata": {},
   "source": [
    "- __Estimating required sample size for 99% confidence interval of sample proportion__"
   ]
  },
  {
   "cell_type": "code",
   "execution_count": 98,
   "id": "745249a1",
   "metadata": {},
   "outputs": [
    {
     "name": "stdout",
     "output_type": "stream",
     "text": [
      "160.0100283754094\n"
     ]
    }
   ],
   "source": [
    "#estimating sample size using population proportion\n",
    "n1 = ((2.575**2)*(pop_prop)*(1-pop_prop))/((samp_prop-pop_prop)**2)\n",
    "print(n1)"
   ]
  },
  {
   "cell_type": "markdown",
   "id": "57961c64",
   "metadata": {},
   "source": [
    "# chi-square test"
   ]
  },
  {
   "cell_type": "markdown",
   "id": "2e096993",
   "metadata": {},
   "source": [
    "- __First step is to calculate the chi-statistic__"
   ]
  },
  {
   "cell_type": "code",
   "execution_count": 91,
   "id": "ee35aa33",
   "metadata": {},
   "outputs": [
    {
     "name": "stdout",
     "output_type": "stream",
     "text": [
      "31.556995879053684\n"
     ]
    }
   ],
   "source": [
    "#chi-statistic\n",
    "cs = ((n-1)*math.pow(samp_std,2))/(math.pow(pop_std,2))\n",
    "print(cs)"
   ]
  },
  {
   "cell_type": "markdown",
   "id": "70914b84",
   "metadata": {},
   "source": [
    "- __Estimating 90% confidence interval for population standard deviation__"
   ]
  },
  {
   "cell_type": "code",
   "execution_count": 92,
   "id": "ad9ee96e",
   "metadata": {},
   "outputs": [
    {
     "name": "stdout",
     "output_type": "stream",
     "text": [
      "[0.13953307072833795, 0.2779689537988355]\n"
     ]
    }
   ],
   "source": [
    "#90% confidence interval(a=0.10)\n",
    "#ca1 = chi-square(a/2) = chi-square(0.05)\n",
    "#ca2 = chi-square(1-a/2) = chi-square(0.95)\n",
    "ca1 = 62.830        #from chi-square table\n",
    "ca2 = 31.539       #from chi-square table\n",
    "conf_range_90 = [((n-1)*math.pow(samp_std,2))/ca1 , ((n-1)*math.pow(samp_std,2))/ca2]\n",
    "print(conf_range_90)"
   ]
  },
  {
   "cell_type": "markdown",
   "id": "04d47847",
   "metadata": {},
   "source": [
    "- __Estimating 95% confidence interval for population standard deviation__"
   ]
  },
  {
   "cell_type": "code",
   "execution_count": 93,
   "id": "86989539",
   "metadata": {},
   "outputs": [
    {
     "name": "stdout",
     "output_type": "stream",
     "text": [
      "[0.13160098524192734, 0.30064687358921377]\n"
     ]
    }
   ],
   "source": [
    "#95% confidence interval(a=0.05)\n",
    "#ca1 = chi-square(a/2) = chi-square(0.025)\n",
    "#ca2 = chi-square(1-a/2) = chi-square(0.975)\n",
    "ca1 = 66.617        #from chi-square table\n",
    "ca2 = 29.160      #from chi-square table\n",
    "conf_range_95 = [((n-1)*math.pow(samp_std,2))/ca1 , ((n-1)*math.pow(samp_std,2))/ca2]\n",
    "print(conf_range_95)"
   ]
  },
  {
   "cell_type": "markdown",
   "id": "31a63036",
   "metadata": {},
   "source": [
    "- __Estimating 99% confidence interval for population standard deviation__"
   ]
  },
  {
   "cell_type": "code",
   "execution_count": 94,
   "id": "a20f0f2b",
   "metadata": {},
   "outputs": [
    {
     "name": "stdout",
     "output_type": "stream",
     "text": [
      "[0.11777560667223927, 0.3501003487824557]\n"
     ]
    }
   ],
   "source": [
    "#99% confidence interval(a=0.01)\n",
    "#ca1 = chi-square(a/2) = chi-square(0.005)\n",
    "#ca2 = chi-square(1-a/2) = chi-square(0.995)\n",
    "ca1 = 74.437        #from chi-square table\n",
    "ca2 = 25.041      #from chi-square table\n",
    "conf_range_99 = [((n-1)*math.pow(samp_std,2))/ca1 , ((n-1)*math.pow(samp_std,2))/ca2]\n",
    "print(conf_range_99)"
   ]
  },
  {
   "cell_type": "markdown",
   "id": "f9e86eb9",
   "metadata": {},
   "source": [
    "# HTAB Analysis"
   ]
  },
  {
   "cell_type": "markdown",
   "id": "2f74b90f",
   "metadata": {},
   "source": [
    "__Hypothesize__\n",
    "- Step 1. Establish a null and alternative hypothesis.\n",
    "\n",
    "__Test__\n",
    "- Step 2. Determine the appropriate statistical test.\n",
    "- Step 3. Set the value of alpha, the Type I error rate.\n",
    "- Step 4. Establish the decision rule.\n",
    "- Step 5. Gather sample data.\n",
    "- Step 6. Analyze the data.\n",
    "\n",
    "__Action__\n",
    "- Step 7. Reach a statistical conclusion.\n",
    "\n",
    "__Business Implication__\n",
    "- Step 8. Make a business decision.\n"
   ]
  },
  {
   "cell_type": "markdown",
   "id": "c614ade0",
   "metadata": {},
   "source": [
    "### __HYPOTHESIZE__:\n"
   ]
  },
  {
   "cell_type": "markdown",
   "id": "58c893b6",
   "metadata": {},
   "source": [
    "- __Step 1__    \n",
    "    Null Hypothesis - lets take a hypothesis that population mean is 8                        \n",
    "    h0 = 8"
   ]
  },
  {
   "cell_type": "markdown",
   "id": "2590afe5",
   "metadata": {},
   "source": [
    "### __TEST__:\n",
    "  "
   ]
  },
  {
   "cell_type": "markdown",
   "id": "35eb03b4",
   "metadata": {},
   "source": [
    "- __Step 2__      \n",
    "    Determining the appropriate statistical test and sampling distribution.\n",
    "    Because the population mean (7.5136) and standard deviation is known (0.5270) and we are using the sample mean\n",
    "    as the statistic, the z test is the appropriate test statistic."
   ]
  },
  {
   "cell_type": "markdown",
   "id": "b4012456",
   "metadata": {},
   "source": [
    "- __Step 3__  \n",
    "    Specifying the Type I error rate, or alpha, which is .05 in this case.\n",
    "    alpha = 0.05"
   ]
  },
  {
   "cell_type": "markdown",
   "id": "2424127a",
   "metadata": {},
   "source": [
    "- __Step 4__  \n",
    "    Stating the decision rule. Because the test is two tailed and alpha is .05, there is a/2 or .025 area in each \n",
    "    of the tails of the distribution. Thus, the rejection region is in the two ends of the distribution with 2.5% \n",
    "    of the area in each. There is a .4750 area between the mean and each of the critical values that separate the \n",
    "    tails of the distribution (the rejection region) from the non-rejection region. By using this .4750 area and \n",
    "    Z-Table, the critical z value can be obtained. z(a/2) = 1.96\n",
    "    The decision rule is that if the data gathered produce a z value greater than 1.96 or less than -1.96, the test\n",
    "    statistic is in one of the rejection regions and the decision is to reject the null hypothesis. If the observed\n",
    "    z value calculated from the data is between -1.96 and +1.96, the decision is to not reject the null hypothesis\n",
    "    because the observed z value is in the non-rejection region."
   ]
  },
  {
   "cell_type": "markdown",
   "id": "d37321b9",
   "metadata": {},
   "source": [
    "- __Step 5__  \n",
    "    It is to gather the data. Suppose the 47 samples produce a sample mean of 7.5510."
   ]
  },
  {
   "cell_type": "markdown",
   "id": "cff82d3d",
   "metadata": {},
   "source": [
    "- __Step 6__  \n",
    "    At this step, the value of the test statistic is calculated by using samp_mean = 7.5510 , n = 47, \n",
    "    pop_std = 0.5270, and a hypothesized mean = 8:"
   ]
  },
  {
   "cell_type": "code",
   "execution_count": 105,
   "id": "a449a7ad",
   "metadata": {},
   "outputs": [
    {
     "name": "stdout",
     "output_type": "stream",
     "text": [
      "-5.839279279443876\n"
     ]
    }
   ],
   "source": [
    "z_val = ((samp_mean - 8)*math.sqrt(47))/pop_std\n",
    "print(z_val)"
   ]
  },
  {
   "cell_type": "markdown",
   "id": "83fc685a",
   "metadata": {},
   "source": [
    "### __ACTION__:"
   ]
  },
  {
   "cell_type": "markdown",
   "id": "00d417a9",
   "metadata": {},
   "source": [
    "- __Step 7__  \n",
    "    Because this test statistic, z = -5.8392, is lesser than the the critical values of z in the lower tail \n",
    "    of the distribution, z = -1.96, the statistical conclusion reached at step 7 of the hypothesis testing process \n",
    "    is to reject the null hypothesis. "
   ]
  },
  {
   "cell_type": "markdown",
   "id": "de248a1f",
   "metadata": {},
   "source": [
    "### __BUSINESS IMPLICATION__:"
   ]
  },
  {
   "cell_type": "markdown",
   "id": "fc207d6d",
   "metadata": {},
   "source": [
    "- __Step 8__  \n",
    "    This step is to make a managerial decision. Statistically, we have enough evidence to reject the figure of 8\n",
    "    as the true average ratings for imdb. \n",
    "    We can conclude that the average ratings are not more than before, but because the 7.5510 is only a sample\n",
    "    mean, it offers no guarantee that the average ratings for all movies is more. "
   ]
  },
  {
   "cell_type": "markdown",
   "id": "6b284c1a",
   "metadata": {},
   "source": [
    "#### Graph showning rejection and non-rejection regions"
   ]
  },
  {
   "cell_type": "code",
   "execution_count": 108,
   "id": "e540277c",
   "metadata": {},
   "outputs": [
    {
     "data": {
      "image/png": "[encoded data removed]",
      "text/plain": [
       "<Figure size 432x288 with 1 Axes>"
      ]
     },
     "metadata": {
      "needs_background": "light"
     },
     "output_type": "display_data"
    }
   ],
   "source": [
    "import numpy as np\n",
    "import matplotlib.pyplot as plt\n",
    "import scipy.stats as stats\n",
    "\n",
    "# Define variables\n",
    "actual_mean = 7.5136\n",
    "sample_mean = 7.5510\n",
    "hypothesised_mean = 8\n",
    "n = 47\n",
    "pop_std = 0.5270\n",
    "alpha = 0.05\n",
    "\n",
    "# Calculate the critical value for the test\n",
    "crit_val = stats.norm.ppf(1 - alpha/2)\n",
    "\n",
    "# Calculate the standard error\n",
    "std_error = pop_std / np.sqrt(n)\n",
    "\n",
    "# Calculate the test statistic\n",
    "test_statistic = (sample_mean - hypothesised_mean) / std_error\n",
    "\n",
    "# Calculate the p-value\n",
    "p_value = 2 * (1 - stats.norm.cdf(abs(test_statistic)))\n",
    "\n",
    "# Set up the x-axis for the plot\n",
    "x = np.linspace(actual_mean - 4 * std_error, actual_mean + 4 * std_error, 1000)\n",
    "\n",
    "# Plot the normal distribution curve\n",
    "plt.plot(x, stats.norm.pdf(x, actual_mean, std_error), linewidth=2, color='blue')\n",
    "\n",
    "# Shade the critical region\n",
    "plt.fill_between(x[x < actual_mean - crit_val * std_error], 0, stats.norm.pdf(x[x < actual_mean - crit_val * std_error], actual_mean, std_error), color='red', alpha=0.5)\n",
    "plt.fill_between(x[x > actual_mean + crit_val * std_error], 0, stats.norm.pdf(x[x > actual_mean + crit_val * std_error], actual_mean, std_error), color='red', alpha=0.5)\n",
    "\n",
    "# Shade the area for the p-value\n",
    "if test_statistic > 0:\n",
    "    plt.fill_between(x[x > actual_mean + abs(test_statistic) * std_error], 0, stats.norm.pdf(x[x > actual_mean + abs(test_statistic) * std_error], actual_mean, std_error), color='green', alpha=0.5)\n",
    "else:\n",
    "    plt.fill_between(x[x < actual_mean - abs(test_statistic) * std_error], 0, stats.norm.pdf(x[x < actual_mean - abs(test_statistic) * std_error], actual_mean, std_error), color='green', alpha=0.5)\n",
    "\n",
    "# Add labels and a title\n",
    "plt.xlabel('Sample Mean')\n",
    "plt.ylabel('Probability Density')\n",
    "plt.title('Hypothesis Testing Graph')\n",
    "\n",
    "# Add a vertical line for the sample mean\n",
    "plt.axvline(x=sample_mean, color='black', linewidth=2)\n",
    "\n",
    "# Add a legend\n",
    "plt.legend(['Null Hypothesis', 'Critical Region', 'P-value', 'Sample Mean'])\n",
    "\n",
    "# Show the plot\n",
    "plt.show()\n"
   ]
  },
  {
   "cell_type": "markdown",
   "id": "8602dd45",
   "metadata": {},
   "source": [
    "- __White area shows acceptance region and Red area shows rejection region__"
   ]
  },
  {
   "cell_type": "code",
   "execution_count": 111,
   "id": "3ab2ff34",
   "metadata": {},
   "outputs": [
    {
     "data": {
      "image/png": "[encoded data removed]",
      "text/plain": [
       "<Figure size 432x288 with 1 Axes>"
      ]
     },
     "metadata": {
      "needs_background": "light"
     },
     "output_type": "display_data"
    }
   ],
   "source": [
    "import numpy as np\n",
    "import matplotlib.pyplot as plt\n",
    "import scipy.stats as stats\n",
    "\n",
    "# population parameters\n",
    "mu = 7.5136\n",
    "sigma = 0.5270\n",
    "\n",
    "# sample parameters\n",
    "xbar = 7.5510\n",
    "n = 47\n",
    "\n",
    "# hypothesized population parameter\n",
    "mu0 = 8\n",
    "\n",
    "# significance level\n",
    "alpha = 0.05\n",
    "\n",
    "# critical value for two-tailed test\n",
    "cv = stats.norm.ppf(1-alpha/2)\n",
    "\n",
    "# compute test statistic and p-value\n",
    "z = (xbar - mu0) / (sigma / np.sqrt(n))\n",
    "pval = stats.norm.sf(abs(z))*2\n",
    "\n",
    "# create figure and axis objects\n",
    "fig, ax = plt.subplots()\n",
    "\n",
    "# create a normal distribution\n",
    "x = np.linspace(mu - 3*sigma, mu + 3*sigma, 100)\n",
    "y = stats.norm.pdf(x, mu, sigma)\n",
    "\n",
    "# plot the normal distribution\n",
    "ax.plot(x, y, label='Population Distribution')\n",
    "\n",
    "# create a vertical line at hypothesized mean\n",
    "ax.axvline(mu0, color='k', linestyle='--', label='Hypothesized Mean')\n",
    "\n",
    "# create a shaded region for rejection region\n",
    "if z > cv or z < -cv:\n",
    "    ax.fill_between(x[x > cv], 0, stats.norm.pdf(x[x > cv], mu0, sigma), alpha=0.3, color='r')\n",
    "    ax.fill_between(x[x < -cv], 0, stats.norm.pdf(x[x < -cv], mu0, sigma), alpha=0.3, color='r')\n",
    "\n",
    "# create a vertical line at sample mean\n",
    "ax.axvline(xbar, color='b', linestyle='--', label='Sample Mean')\n",
    "\n",
    "# set x and y limits\n",
    "ax.set_xlim(mu - 3*sigma, mu + 3*sigma)\n",
    "ax.set_ylim(0, stats.norm.pdf(mu, mu, sigma)*1.1)\n",
    "\n",
    "# set axis labels and title\n",
    "ax.set_xlabel('Value')\n",
    "ax.set_ylabel('Density')\n",
    "ax.set_title('Hypothesis Testing')\n",
    "\n",
    "# add legend\n",
    "ax.legend()\n",
    "\n",
    "# annotate the graph with test statistics and p-value\n",
    "ax.annotate(f\"z = {z:.2f}\\np-value = {pval:.3f}\", xy=(xbar, 0), xytext=(xbar, 0.1), ha='center', va='bottom', arrowprops=dict(arrowstyle='->'))\n",
    "\n",
    "# show the graph\n",
    "plt.show()\n"
   ]
  },
  {
   "cell_type": "markdown",
   "id": "95deb6b7",
   "metadata": {},
   "source": [
    "- __Area under Blue line is for original mean value of 7.5510__\n",
    "- __Area shaded red is the area under hypothesized mean(8) curve__"
   ]
  },
  {
   "cell_type": "code",
   "execution_count": null,
   "id": "fb758158",
   "metadata": {},
   "outputs": [],
   "source": []
  }
 ],
 "metadata": {
  "kernelspec": {
   "display_name": "Python 3 (ipykernel)",
   "language": "python",
   "name": "python3"
  },
  "language_info": {
   "codemirror_mode": {
    "name": "ipython",
    "version": 3
   },
   "file_extension": ".py",
   "mimetype": "text/x-python",
   "name": "python",
   "nbconvert_exporter": "python",
   "pygments_lexer": "ipython3",
   "version": "3.9.12"
  }
 },
 "nbformat": 4,
 "nbformat_minor": 5
}
